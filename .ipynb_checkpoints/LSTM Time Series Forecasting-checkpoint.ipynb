{
 "cells": [
  {
   "cell_type": "markdown",
   "metadata": {},
   "source": [
    "# LSTM (Long Short-Term Memory networks) Models for Time Series Forecasting"
   ]
  },
  {
   "cell_type": "markdown",
   "metadata": {},
   "source": [
    "1. Univariate time series forecasting\n",
    "2. Multivariate time series forecasting\n",
    "3. Multi-step time series forecasting\n",
    "4. Multivariate Multi-Step time series forecasting"
   ]
  },
  {
   "cell_type": "markdown",
   "metadata": {},
   "source": [
    "## 1. Univariate time series forecasting LSTM models\n",
    "###  i) Vanilla LSTM\n",
    "###  ii) Stacked LSTM\n",
    "###  iii) Bidirectional LSTM\n",
    "###  iv) CNN LSTM\n",
    "###  v) ConvLSTM"
   ]
  },
  {
   "cell_type": "markdown",
   "metadata": {},
   "source": [
    "Each of these models are demonstrated for one-step univariate time series forecasting, but can easily be adapted and used as the input part of a model for other types of time series forecasting problems."
   ]
  },
  {
   "cell_type": "markdown",
   "metadata": {},
   "source": [
    "### Dataset"
   ]
  },
  {
   "cell_type": "markdown",
   "metadata": {},
   "source": [
    "U.S. Bureau of Economic Analysis, Population [POPTHM], retrieved from FRED, Federal Reserve Bank of St. Louis; https://fred.stlouisfed.org/series/POPTHM, January 7, 2021.\n",
    "\n",
    "This is a dataset from the U.S. Census Bureau hosted by the Federal Reserve Economic Database (FRED). Population includes resident population plus armed forces overseas. The monthly estimate is the average of estimates for the first of the month and the first of the following month.\n",
    "BEA Account Code: B230RC\n",
    "\n",
    "Observation:Nov 2020: 330,829\n",
    "Updated: Dec 23, 2020\n",
    "Units: Thousands, Not Seasonally Adjusted\n",
    "Frequency: Monthly"
   ]
  },
  {
   "cell_type": "code",
   "execution_count": 249,
   "metadata": {},
   "outputs": [
    {
     "name": "stdout",
     "output_type": "stream",
     "text": [
      "Index(['POPTHM'], dtype='object')\n",
      "Index(['1/1/1959', '2/1/1959', '3/1/1959', '4/1/1959', '5/1/1959', '6/1/1959',\n",
      "       '7/1/1959', '8/1/1959', '9/1/1959', '10/1/1959',\n",
      "       ...\n",
      "       '2/1/2020', '3/1/2020', '4/1/2020', '5/1/2020', '6/1/2020', '7/1/2020',\n",
      "       '8/1/2020', '9/1/2020', '10/1/2020', '11/1/2020'],\n",
      "      dtype='object', name='DATE', length=743)\n"
     ]
    },
    {
     "data": {
      "text/html": [
       "<div>\n",
       "<style scoped>\n",
       "    .dataframe tbody tr th:only-of-type {\n",
       "        vertical-align: middle;\n",
       "    }\n",
       "\n",
       "    .dataframe tbody tr th {\n",
       "        vertical-align: top;\n",
       "    }\n",
       "\n",
       "    .dataframe thead th {\n",
       "        text-align: right;\n",
       "    }\n",
       "</style>\n",
       "<table border=\"1\" class=\"dataframe\">\n",
       "  <thead>\n",
       "    <tr style=\"text-align: right;\">\n",
       "      <th></th>\n",
       "      <th>POPTHM</th>\n",
       "    </tr>\n",
       "    <tr>\n",
       "      <th>DATE</th>\n",
       "      <th></th>\n",
       "    </tr>\n",
       "  </thead>\n",
       "  <tbody>\n",
       "    <tr>\n",
       "      <th>1/1/1959</th>\n",
       "      <td>175818</td>\n",
       "    </tr>\n",
       "    <tr>\n",
       "      <th>2/1/1959</th>\n",
       "      <td>176044</td>\n",
       "    </tr>\n",
       "    <tr>\n",
       "      <th>3/1/1959</th>\n",
       "      <td>176274</td>\n",
       "    </tr>\n",
       "    <tr>\n",
       "      <th>4/1/1959</th>\n",
       "      <td>176503</td>\n",
       "    </tr>\n",
       "    <tr>\n",
       "      <th>5/1/1959</th>\n",
       "      <td>176723</td>\n",
       "    </tr>\n",
       "  </tbody>\n",
       "</table>\n",
       "</div>"
      ],
      "text/plain": [
       "          POPTHM\n",
       "DATE            \n",
       "1/1/1959  175818\n",
       "2/1/1959  176044\n",
       "3/1/1959  176274\n",
       "4/1/1959  176503\n",
       "5/1/1959  176723"
      ]
     },
     "execution_count": 249,
     "metadata": {},
     "output_type": "execute_result"
    }
   ],
   "source": [
    "import pandas as pd\n",
    "import numpy as np\n",
    "\n",
    "df1 = pd.read_csv('POPTHM.csv', index_col=0)\n",
    "print(df1.columns)\n",
    "print(df1.index)\n",
    "df1.head()"
   ]
  },
  {
   "cell_type": "code",
   "execution_count": 63,
   "metadata": {},
   "outputs": [
    {
     "name": "stdout",
     "output_type": "stream",
     "text": [
      "DatetimeIndex(['1959-01-01', '1959-02-01', '1959-03-01', '1959-04-01',\n",
      "               '1959-05-01', '1959-06-01', '1959-07-01', '1959-08-01',\n",
      "               '1959-09-01', '1959-10-01',\n",
      "               ...\n",
      "               '2020-02-01', '2020-03-01', '2020-04-01', '2020-05-01',\n",
      "               '2020-06-01', '2020-07-01', '2020-08-01', '2020-09-01',\n",
      "               '2020-10-01', '2020-11-01'],\n",
      "              dtype='datetime64[ns]', name='DATE', length=743, freq=None)\n"
     ]
    },
    {
     "data": {
      "text/html": [
       "<div>\n",
       "<style scoped>\n",
       "    .dataframe tbody tr th:only-of-type {\n",
       "        vertical-align: middle;\n",
       "    }\n",
       "\n",
       "    .dataframe tbody tr th {\n",
       "        vertical-align: top;\n",
       "    }\n",
       "\n",
       "    .dataframe thead th {\n",
       "        text-align: right;\n",
       "    }\n",
       "</style>\n",
       "<table border=\"1\" class=\"dataframe\">\n",
       "  <thead>\n",
       "    <tr style=\"text-align: right;\">\n",
       "      <th></th>\n",
       "      <th>POPTHM</th>\n",
       "    </tr>\n",
       "    <tr>\n",
       "      <th>DATE</th>\n",
       "      <th></th>\n",
       "    </tr>\n",
       "  </thead>\n",
       "  <tbody>\n",
       "    <tr>\n",
       "      <th>2020-07-01</th>\n",
       "      <td>330199</td>\n",
       "    </tr>\n",
       "    <tr>\n",
       "      <th>2020-08-01</th>\n",
       "      <td>330368</td>\n",
       "    </tr>\n",
       "    <tr>\n",
       "      <th>2020-09-01</th>\n",
       "      <td>330535</td>\n",
       "    </tr>\n",
       "    <tr>\n",
       "      <th>2020-10-01</th>\n",
       "      <td>330692</td>\n",
       "    </tr>\n",
       "    <tr>\n",
       "      <th>2020-11-01</th>\n",
       "      <td>330829</td>\n",
       "    </tr>\n",
       "  </tbody>\n",
       "</table>\n",
       "</div>"
      ],
      "text/plain": [
       "            POPTHM\n",
       "DATE              \n",
       "2020-07-01  330199\n",
       "2020-08-01  330368\n",
       "2020-09-01  330535\n",
       "2020-10-01  330692\n",
       "2020-11-01  330829"
      ]
     },
     "execution_count": 63,
     "metadata": {},
     "output_type": "execute_result"
    }
   ],
   "source": [
    "import datetime\n",
    "\n",
    "# Convert index to DatetimeIndex type \n",
    "fixed_dates_df = df1.copy()\n",
    "fixed_dates_df = fixed_dates_df.set_index(fixed_dates_df.index.to_series().apply(pd.to_datetime))\n",
    "\n",
    "df1 = fixed_dates_df\n",
    "print(df1.index)\n",
    "df1.tail()"
   ]
  },
  {
   "cell_type": "code",
   "execution_count": 64,
   "metadata": {},
   "outputs": [
    {
     "data": {
      "text/plain": [
       "<AxesSubplot:xlabel='DATE'>"
      ]
     },
     "execution_count": 64,
     "metadata": {},
     "output_type": "execute_result"
    },
    {
     "data": {
      "image/png": "[encoded data removed]",
      "text/plain": [
       "<Figure size 1280x640 with 1 Axes>"
      ]
     },
     "metadata": {},
     "output_type": "display_data"
    }
   ],
   "source": [
    "import matplotlib.pyplot as plt\n",
    "from pandas.plotting import register_matplotlib_converters\n",
    "register_matplotlib_converters()\n",
    "plt.style.use(\"ggplot\")\n",
    "plt.rcParams['figure.figsize'] = [16, 8]\n",
    "\n",
    "df1.plot(color=\"purple\")"
   ]
  },
  {
   "cell_type": "code",
   "execution_count": 202,
   "metadata": {},
   "outputs": [
    {
     "name": "stdout",
     "output_type": "stream",
     "text": [
      "<class 'pandas.core.series.Series'>\n",
      "Shape of dataset:  (200,)\n",
      "train DATE\n",
      "2020-06-01    330038\n",
      "2020-07-01    330199\n",
      "2020-08-01    330368\n",
      "2020-09-01    330535\n",
      "2020-10-01    330692\n",
      "Name: POPTHM, dtype: int64\n",
      "test 330829\n"
     ]
    }
   ],
   "source": [
    "# Split train, test data\n",
    "# Since this is a single step forecast, only the last index is removed from training dataset\n",
    "train_seq1 = df1[-201:-1]['POPTHM'] # LSTM perform best between 200 ~ 400 datapoint\n",
    "test_seq1 = df1.iloc[-1]['POPTHM']\n",
    "print(type(train_seq1))\n",
    "print(\"Shape of dataset: \", train_seq1.shape)\n",
    "print(\"train\", train_seq1.tail())\n",
    "print(\"test\", test_seq1)"
   ]
  },
  {
   "cell_type": "markdown",
   "metadata": {},
   "source": [
    "### Data Preprocessing\n",
    "\n",
    "##### The LSTM model will learn a function that maps a sequence of past observations as input to an output observation. As such, the sequence of observations must be transformed into multiple examples from which the LSTM can learn."
   ]
  },
  {
   "cell_type": "code",
   "execution_count": 192,
   "metadata": {},
   "outputs": [],
   "source": [
    "from numpy import array\n",
    "\n",
    "# split a univariate sequence into samples\n",
    "def split_sequence(sequence, n_steps):\n",
    "    x, y = list(), list()\n",
    "    for i in range(len(sequence)):\n",
    "        # find the end of this pattern\n",
    "        end_ix = i + n_steps\n",
    "        # check if we are beyond the sequence\n",
    "        if end_ix > len(sequence)-1:\n",
    "            break\n",
    "        # gather input and output parts of the pattern\n",
    "        seq_x, seq_y = sequence[i:end_ix], sequence[end_ix]\n",
    "        x.append(seq_x)\n",
    "        y.append(seq_y)\n",
    "    return array(x), array(y) # x = [samples, timesteps]"
   ]
  },
  {
   "cell_type": "code",
   "execution_count": 193,
   "metadata": {},
   "outputs": [
    {
     "name": "stdout",
     "output_type": "stream",
     "text": [
      "[292434 292651 292872] 293103\n",
      "[292651 292872 293103] 293350\n",
      "[292872 293103 293350] 293603\n",
      "[293103 293350 293603] 293857\n",
      "[293350 293603 293857] 294104\n",
      "[293603 293857 294104] 294337\n",
      "[293857 294104 294337] 294561\n",
      "[294104 294337 294561] 294768\n",
      "[294337 294561 294768] 294955\n",
      "[294561 294768 294955] 295149\n",
      "[294768 294955 295149] 295359\n",
      "[294955 295149 295359] 295582\n",
      "[295149 295359 295582] 295824\n",
      "[295359 295582 295824] 296077\n",
      "[295582 295824 296077] 296338\n",
      "[295824 296077 296338] 296606\n",
      "[296077 296338 296606] 296857\n",
      "[296338 296606 296857] 297089\n",
      "[296606 296857 297089] 297311\n",
      "[296857 297089 297311] 297526\n",
      "[297089 297311 297526] 297734\n",
      "[297311 297526 297734] 297950\n",
      "[297526 297734 297950] 298170\n",
      "[297734 297950 298170] 298401\n",
      "[297950 298170 298401] 298653\n",
      "[298170 298401 298653] 298910\n",
      "[298401 298653 298910] 299178\n",
      "[298653 298910 299178] 299452\n",
      "[298910 299178 299452] 299710\n",
      "[299178 299452 299710] 299950\n",
      "[299452 299710 299950] 300178\n",
      "[299710 299950 300178] 300398\n",
      "[299950 300178 300398] 300608\n",
      "[300178 300398 300608] 300823\n",
      "[300398 300608 300823] 301045\n",
      "[300608 300823 301045] 301278\n",
      "[300823 301045 301278] 301528\n",
      "[301045 301278 301528] 301790\n",
      "[301278 301528 301790] 302064\n",
      "[301528 301790 302064] 302334\n",
      "[301790 302064 302334] 302590\n",
      "[302064 302334 302590] 302834\n",
      "[302334 302590 302834] 303062\n",
      "[302590 302834 303062] 303280\n",
      "[302834 303062 303280] 303494\n",
      "[303062 303280 303494] 303707\n",
      "[303280 303494 303707] 303926\n",
      "[303494 303707 303926] 304157\n",
      "[303707 303926 304157] 304396\n",
      "[303926 304157 304396] 304646\n",
      "[304157 304396 304646] 304903\n",
      "[304396 304646 304903] 305158\n",
      "[304646 304903 305158] 305403\n",
      "[304903 305158 305403] 305620\n",
      "[305158 305403 305620] 305827\n",
      "[305403 305620 305827] 306035\n",
      "[305620 305827 306035] 306237\n",
      "[305827 306035 306237] 306438\n",
      "[306035 306237 306438] 306645\n",
      "[306237 306438 306645] 306863\n",
      "[306438 306645 306863] 307090\n",
      "[306645 306863 307090] 307322\n",
      "[306863 307090 307322] 307570\n",
      "[307090 307322 307570] 307826\n",
      "[307322 307570 307826] 308071\n",
      "[307570 307826 308071] 308289\n",
      "[307826 308071 308289] 308495\n",
      "[308071 308289 308495] 308706\n",
      "[308289 308495 308706] 308904\n",
      "[308495 308706 308904] 309095\n",
      "[308706 308904 309095] 309279\n",
      "[308904 309095 309279] 309457\n",
      "[309095 309279 309457] 309643\n",
      "[309279 309457 309643] 309847\n",
      "[309457 309643 309847] 310060\n",
      "[309643 309847 310060] 310280\n",
      "[309847 310060 310280] 310488\n",
      "[310060 310280 310488] 310677\n",
      "[310280 310488 310677] 310858\n",
      "[310488 310677 310858] 311023\n",
      "[310677 310858 311023] 311173\n",
      "[310858 311023 311173] 311333\n",
      "[311023 311173 311333] 311502\n",
      "[311173 311333 311502] 311678\n",
      "[311333 311502 311678] 311872\n",
      "[311502 311678 311872] 312077\n",
      "[311678 311872 312077] 312292\n",
      "[311872 312077 312292] 312509\n",
      "[312077 312292 312509] 312708\n",
      "[312292 312509 312708] 312889\n",
      "[312509 312708 312889] 313064\n",
      "[312708 312889 313064] 313227\n",
      "[312889 313064 313227] 313383\n",
      "[313064 313227 313383] 313546\n",
      "[313227 313383 313546] 313710\n",
      "[313383 313546 313710] 313883\n",
      "[313546 313710 313883] 314072\n",
      "[313710 313883 314072] 314272\n",
      "[313883 314072 314272] 314489\n",
      "[314072 314272 314489] 314703\n",
      "[314272 314489 314703] 314905\n",
      "[314489 314703 314905] 315092\n",
      "[314703 314905 315092] 315258\n",
      "[314905 315092 315258] 315400\n",
      "[315092 315258 315400] 315535\n",
      "[315258 315400 315535] 315682\n",
      "[315400 315535 315682] 315841\n",
      "[315535 315682 315841] 316016\n",
      "[315682 315841 316016] 316202\n",
      "[315841 316016 316202] 316405\n",
      "[316016 316202 316405] 316627\n",
      "[316202 316405 316627] 316846\n",
      "[316405 316627 316846] 317055\n",
      "[316627 316846 317055] 317248\n",
      "[316846 317055 317248] 317429\n",
      "[317055 317248 317429] 317598\n",
      "[317248 317429 317598] 317758\n",
      "[317429 317598 317758] 317924\n",
      "[317598 317758 317924] 318098\n",
      "[317758 317924 318098] 318284\n",
      "[317924 318098 318284] 318479\n",
      "[318098 318284 318479] 318692\n",
      "[318284 318479 318692] 318921\n",
      "[318479 318692 318921] 319149\n",
      "[318692 318921 319149] 319367\n",
      "[318921 319149 319367] 319561\n",
      "[319149 319367 319561] 319742\n",
      "[319367 319561 319742] 319904\n",
      "[319561 319742 319904] 320053\n",
      "[319742 319904 320053] 320215\n",
      "[319904 320053 320215] 320390\n",
      "[320053 320215 320390] 320574\n",
      "[320215 320390 320574] 320769\n",
      "[320390 320574 320769] 320982\n",
      "[320574 320769 320982] 321205\n",
      "[320769 320982 321205] 321428\n",
      "[320982 321205 321428] 321641\n",
      "[321205 321428 321641] 321834\n",
      "[321428 321641 321834] 322020\n",
      "[321641 321834 322020] 322196\n",
      "[321834 322020 322196] 322353\n",
      "[322020 322196 322353] 322513\n",
      "[322196 322353 322513] 322685\n",
      "[322353 322513 322685] 322867\n",
      "[322513 322685 322867] 323061\n",
      "[322685 322867 323061] 323265\n",
      "[322867 323061 323265] 323473\n",
      "[323061 323265 323473] 323680\n",
      "[323265 323473 323680] 323876\n",
      "[323473 323680 323876] 324052\n",
      "[323680 323876 324052] 324216\n",
      "[323876 324052 324216] 324362\n",
      "[324052 324216 324362] 324494\n",
      "[324216 324362 324494] 324632\n",
      "[324362 324494 324632] 324783\n",
      "[324494 324632 324783] 324944\n",
      "[324632 324783 324944] 325117\n",
      "[324783 324944 325117] 325296\n",
      "[324944 325117 325296] 325476\n",
      "[325117 325296 325476] 325653\n",
      "[325296 325476 325653] 325820\n",
      "[325476 325653 325820] 325968\n",
      "[325653 325820 325968] 326100\n",
      "[325820 325968 326100] 326216\n",
      "[325968 326100 326216] 326323\n",
      "[326100 326216 326323] 326437\n",
      "[326216 326323 326437] 326563\n",
      "[326323 326437 326563] 326699\n",
      "[326437 326563 326699] 326847\n",
      "[326563 326699 326847] 327005\n",
      "[326699 326847 327005] 327167\n",
      "[326847 327005 327167] 327328\n",
      "[327005 327167 327328] 327477\n",
      "[327167 327328 327477] 327607\n",
      "[327328 327477 327607] 327722\n",
      "[327477 327607 327722] 327824\n",
      "[327607 327722 327824] 327921\n",
      "[327722 327824 327921] 328025\n",
      "[327824 327921 328025] 328140\n",
      "[327921 328025 328140] 328267\n",
      "[328025 328140 328267] 328404\n",
      "[328140 328267 328404] 328561\n",
      "[328267 328404 328561] 328730\n",
      "[328404 328561 328730] 328897\n",
      "[328561 328730 328897] 329054\n",
      "[328730 328897 329054] 329191\n",
      "[328897 329054 329191] 329314\n",
      "[329054 329191 329314] 329423\n",
      "[329191 329314 329423] 329527\n",
      "[329314 329423 329527] 329638\n",
      "[329423 329527 329638] 329760\n",
      "[329527 329638 329760] 329894\n",
      "[329638 329760 329894] 330038\n",
      "[329760 329894 330038] 330199\n",
      "[329894 330038 330199] 330368\n",
      "[330038 330199 330368] 330535\n",
      "[330199 330368 330535] 330692\n"
     ]
    }
   ],
   "source": [
    "# Splits the univariate series into six samples where each sample has three input time steps and one output time step.\n",
    "input_sequence = train_seq1 # Training dataset\n",
    "\n",
    "# choose a number of time steps\n",
    "n_steps = 3\n",
    "\n",
    "# split into samples\n",
    "x, y = split_sequence(input_sequence, n_steps)\n",
    "\n",
    "# summarize the databb\n",
    "for i in range(len(x)):\n",
    "\tprint(x[i], y[i])\n",
    "\n",
    "n_features = 1 # univariate\n",
    "# reshape from [samples, timesteps] into [samples, timesteps, features]\n",
    "x = x.reshape((x.shape[0], x.shape[1], n_features))"
   ]
  },
  {
   "cell_type": "code",
   "execution_count": 208,
   "metadata": {},
   "outputs": [],
   "source": [
    "from sklearn.metrics import mean_squared_error, mean_absolute_error\n",
    "def model_eval(y, predictions):    \n",
    "        # Mean absolute error (MAE)\n",
    "        mae = mean_absolute_error(y, predictions)\n",
    "    \n",
    "        # Mean squared error (MSE)\n",
    "        mse = mean_squared_error(y, predictions)\n",
    "    \n",
    "    \n",
    "        # SMAPE is an alternative for MAPE when there are zeros in the testing data. It\n",
    "        # scales the absolute percentage by the sum of forecast and observed values\n",
    "        SMAPE = np.mean(np.abs((y - predictions) / ((y + predictions)/2))) * 100\n",
    "    \n",
    "    \n",
    "        # Calculate the Root Mean Squared Error\n",
    "        rmse = np.sqrt(mean_squared_error(y, predictions))\n",
    "    \n",
    "        # Calculate the Mean Absolute Percentage Error\n",
    "        # y, predictions = check_array(y, predictions)\n",
    "        MAPE = np.mean(np.abs((y - predictions) / y)) * 100\n",
    "    \n",
    "        # mean_forecast_error\n",
    "        mfe = np.mean(y - predictions)\n",
    "    \n",
    "        # NMSE normalizes the obtained MSE after dividing it by the test variance. It\n",
    "        # is a balanced error measure and is very effective in judging forecast\n",
    "        # accuracy of a model.\n",
    "    \n",
    "        # normalised_mean_squared_error\n",
    "        NMSE = mse / (np.sum((y - np.mean(y)) ** 2)/(len(y)-1))\n",
    "    \n",
    "    \n",
    "        # theil_u_statistic\n",
    "        # It is a normalized measure of total forecast error.\n",
    "        error = y - predictions\n",
    "        mfe = np.sqrt(np.mean(predictions**2))\n",
    "        mse = np.sqrt(np.mean(y**2))\n",
    "        rmse = np.sqrt(np.mean(error**2))\n",
    "        theil_u_statistic =  rmse / (mfe*mse)\n",
    "    \n",
    "    \n",
    "        # mean_absolute_scaled_error\n",
    "        # This evaluation metric is used to over come some of the problems of MAPE and\n",
    "        # is used to measure if the forecasting model is better than the naive model or\n",
    "        # not.\n",
    "    \n",
    "        \n",
    "        # Print metrics\n",
    "        print('Mean Absolute Error:', round(mae, 3))\n",
    "        print('Mean Squared Error:', round(mse, 3))\n",
    "        print('Root Mean Squared Error:', round(rmse, 3))\n",
    "        print('Mean absolute percentage error:', round(MAPE, 3))\n",
    "        print('Scaled Mean absolute percentage error:', round(SMAPE, 3))\n",
    "        print('Mean forecast error:', round(mfe, 3))\n",
    "        print('Normalised mean squared error:', round(NMSE, 3))\n",
    "        print('Theil_u_statistic:', round(theil_u_statistic, 3))"
   ]
  },
  {
   "cell_type": "markdown",
   "metadata": {},
   "source": [
    "## Vanilla LSTM\n",
    " \n",
    "#### Contains single hidden layer of LSTM units, and an output layer used to make a prediction.\n",
    "#### Three-dimensiona model input = [samples, timesteps, features]"
   ]
  },
  {
   "cell_type": "code",
   "execution_count": 209,
   "metadata": {},
   "outputs": [
    {
     "name": "stdout",
     "output_type": "stream",
     "text": [
      "1/1 [==============================] - 0s 2ms/step\n"
     ]
    },
    {
     "data": {
      "image/png": "[encoded data removed]",
      "text/plain": [
       "<Figure size 640x480 with 1 Axes>"
      ]
     },
     "metadata": {},
     "output_type": "display_data"
    }
   ],
   "source": [
    "from keras.models import Sequential\n",
    "from keras.layers import LSTM\n",
    "from keras.layers import Dense\n",
    "n_features = 1 # univariate\n",
    "\n",
    "# define model \n",
    "model = Sequential()\n",
    "model.add(LSTM(200, activation='relu', input_shape=(n_steps, n_features))) # 50 LSTM units in the hidden layer\n",
    "model.add(Dense(1))\n",
    "model.compile(optimizer='adam', loss='mse') #  Adam version of stochastic gradient descent \n",
    "\n",
    "# fit model\n",
    "history = model.fit(x, y, epochs=200, verbose=0)\n",
    "plt.style.use('classic')\n",
    "plt.plot(history.history[\"loss\"])\n",
    "\n",
    "# Prediction\n",
    "x_input = input_sequence[-3:].to_numpy()\n",
    "x_input = x_input.reshape((1, n_steps, n_features))\n",
    "yhat = model.predict(x_input, verbose=1)\n"
   ]
  },
  {
   "cell_type": "code",
   "execution_count": 221,
   "metadata": {},
   "outputs": [
    {
     "name": "stdout",
     "output_type": "stream",
     "text": [
      "actual [[330829]]\n",
      "prediction [[330945.34]]\n"
     ]
    }
   ],
   "source": [
    "print(\"actual\", array([[test_seq1]]))\n",
    "print(\"prediction\", yhat) # Expected ans: 2020-11-01\t330829"
   ]
  },
  {
   "cell_type": "code",
   "execution_count": 216,
   "metadata": {},
   "outputs": [
    {
     "name": "stdout",
     "output_type": "stream",
     "text": [
      "Mean Absolute Error: 116.344\n",
      "Mean Squared Error: 330829.0\n",
      "Root Mean Squared Error: 116.344\n",
      "Mean absolute percentage error: 0.035\n",
      "Scaled Mean absolute percentage error: 0.035\n",
      "Mean forecast error: 330945.34\n",
      "Normalised mean squared error: nan\n",
      "Theil_u_statistic: 0.0\n"
     ]
    },
    {
     "name": "stderr",
     "output_type": "stream",
     "text": [
      "D:\\Users\\Yuzhe\\Anaconda3\\envs\\deeplearning\\lib\\site-packages\\ipykernel_launcher.py:30: RuntimeWarning: invalid value encountered in double_scalars\n"
     ]
    }
   ],
   "source": [
    "model_eval(array([test_seq1]), yhat)"
   ]
  },
  {
   "cell_type": "markdown",
   "metadata": {},
   "source": [
    " The forecast's distance from the true value is 0.037% of the true value, which is good as the forecast value is only off by 0.037%"
   ]
  },
  {
   "cell_type": "markdown",
   "metadata": {},
   "source": [
    "# Stacked LSTM\n",
    "\n",
    "#### Multiple hidden LSTM layers can be stacked one on top of another."
   ]
  },
  {
   "cell_type": "code",
   "execution_count": 211,
   "metadata": {},
   "outputs": [
    {
     "name": "stdout",
     "output_type": "stream",
     "text": [
      "actual [[330829]]\n",
      "prediction [[330932.56]]\n",
      "Mean Absolute Error: 103.562\n",
      "Mean Squared Error: 330829.0\n",
      "Root Mean Squared Error: 103.562\n",
      "Mean absolute percentage error: 0.031\n",
      "Scaled Mean absolute percentage error: 0.031\n",
      "Mean forecast error: 330932.56\n",
      "Normalised mean squared error: nan\n",
      "Theil_u_statistic: 0.0\n"
     ]
    },
    {
     "name": "stderr",
     "output_type": "stream",
     "text": [
      "D:\\Users\\Yuzhe\\Anaconda3\\envs\\deeplearning\\lib\\site-packages\\ipykernel_launcher.py:30: RuntimeWarning: invalid value encountered in double_scalars\n"
     ]
    }
   ],
   "source": [
    "n_steps = 3\n",
    "n_features = 1 # univariate\n",
    "\n",
    "# define model\n",
    "model = Sequential()\n",
    "model.add(LSTM(50, activation='relu', return_sequences=True, input_shape=(n_steps, n_features))) #3D output from hidden LSTM layer as input to the next.\n",
    "model.add(LSTM(50, activation='relu'))\n",
    "model.add(Dense(1))\n",
    "model.compile(optimizer='adam', loss='mse')\n",
    "\n",
    "# fit model\n",
    "model.fit(x, y, epochs=200, verbose=0)\n",
    "\n",
    "# demonstrate prediction\n",
    "x_input = input_sequence[-3:].to_numpy()\n",
    "x_input = x_input.reshape((1, n_steps, n_features))\n",
    "yhat = model.predict(x_input, verbose=0)\n",
    "print(\"actual\", array([[test_seq1]]))\n",
    "print(\"prediction\", yhat) # Expected ans: 2020-11-01\t330829\n",
    "model_eval(array([test_seq1]), yhat)"
   ]
  },
  {
   "cell_type": "markdown",
   "metadata": {},
   "source": [
    "## Bidirectional LSTM\n",
    "\n",
    "#### LSTM model to learn the input sequence both forward and backwards and concatenate both interpretations.\n",
    "#### Wrap the first hidden layer in a wrapper layer called Bidirectional."
   ]
  },
  {
   "cell_type": "code",
   "execution_count": 212,
   "metadata": {},
   "outputs": [
    {
     "name": "stdout",
     "output_type": "stream",
     "text": [
      "actual [[330829]]\n",
      "prediction [[330937.7]]\n",
      "Mean Absolute Error: 108.688\n",
      "Mean Squared Error: 330829.0\n",
      "Root Mean Squared Error: 108.688\n",
      "Mean absolute percentage error: 0.033\n",
      "Scaled Mean absolute percentage error: 0.033\n",
      "Mean forecast error: 330937.7\n",
      "Normalised mean squared error: nan\n",
      "Theil_u_statistic: 0.0\n"
     ]
    },
    {
     "name": "stderr",
     "output_type": "stream",
     "text": [
      "D:\\Users\\Yuzhe\\Anaconda3\\envs\\deeplearning\\lib\\site-packages\\ipykernel_launcher.py:30: RuntimeWarning: invalid value encountered in double_scalars\n"
     ]
    }
   ],
   "source": [
    "from keras.layers import Bidirectional\n",
    "\n",
    "n_steps = 3\n",
    "n_features = 1\n",
    "\n",
    "# define model\n",
    "model = Sequential()\n",
    "model.add(Bidirectional(LSTM(50, activation='relu'), input_shape=(n_steps, n_features)))\n",
    "model.add(Dense(1))\n",
    "model.compile(optimizer='adam', loss='mse')\n",
    "\n",
    "# fit model\n",
    "model.fit(x, y, epochs=200, verbose=0)\n",
    "\n",
    "# demonstrate prediction\n",
    "x_input = input_sequence[-3:].to_numpy()\n",
    "x_input = x_input.reshape((1, n_steps, n_features))\n",
    "yhat = model.predict(x_input, verbose=0)\n",
    "print(\"actual\", array([[test_seq1]]))\n",
    "print(\"prediction\", yhat) # Expected ans: 2020-11-01\t330829\n",
    "model_eval(array([test_seq1]), yhat)"
   ]
  },
  {
   "cell_type": "markdown",
   "metadata": {},
   "source": [
    "## CNN LSTM\n",
    "\n",
    "#### CNN is used to interpret subsequences of input that together are provided as a sequence to an LSTM model to interpret"
   ]
  },
  {
   "cell_type": "code",
   "execution_count": 213,
   "metadata": {},
   "outputs": [
    {
     "name": "stdout",
     "output_type": "stream",
     "text": [
      "actual [[330829]]\n",
      "prediction [[330931.44]]\n",
      "Mean Absolute Error: 102.438\n",
      "Mean Squared Error: 330829.0\n",
      "Root Mean Squared Error: 102.438\n",
      "Mean absolute percentage error: 0.031\n",
      "Scaled Mean absolute percentage error: 0.031\n",
      "Mean forecast error: 330931.44\n",
      "Normalised mean squared error: nan\n",
      "Theil_u_statistic: 0.0\n"
     ]
    },
    {
     "name": "stderr",
     "output_type": "stream",
     "text": [
      "D:\\Users\\Yuzhe\\Anaconda3\\envs\\deeplearning\\lib\\site-packages\\ipykernel_launcher.py:30: RuntimeWarning: invalid value encountered in double_scalars\n"
     ]
    }
   ],
   "source": [
    "from keras.layers import Flatten\n",
    "from keras.layers import TimeDistributed\n",
    "from keras.layers.convolutional import Conv1D\n",
    "from keras.layers.convolutional import MaxPooling1D\n",
    "\n",
    "n_steps = 4\n",
    "# split into samples\n",
    "x, y = split_sequence(input_sequence, n_steps)\n",
    "\n",
    "# Each sample can then be split into two sub-samples, each with two time steps. \n",
    "# So the CNN can interpret each subsequence of two time steps and provide a \n",
    "# time series of interpretations of the subsequences to the LSTM model to process as input.\n",
    "# reshape from [samples, timesteps] into [samples, subsequences, timesteps, features]\n",
    "n_features = 1\n",
    "n_seq = 2\n",
    "n_steps = 2\n",
    "x = x.reshape((x.shape[0], n_seq, n_steps, n_features))\n",
    "\n",
    "# define model\n",
    "model = Sequential()\n",
    "# TimeDistributed wrapper to apply the entire model once per input subsequence \n",
    "# Reuse the same CNN model when reading in each sub-sequence of data separately\n",
    "model.add(TimeDistributed(Conv1D(filters=64, kernel_size=1, activation='relu'), input_shape=(None, n_steps, n_features)))\n",
    "model.add(TimeDistributed(MaxPooling1D(pool_size=2))) # distills the filter maps down to 1/2 of their size that includes the most salient features\n",
    "model.add(TimeDistributed(Flatten())) # single input time step\n",
    "model.add(LSTM(50, activation='relu')) \n",
    "model.add(Dense(1))\n",
    "model.compile(optimizer='adam', loss='mse')\n",
    "\n",
    "# fit model\n",
    "model.fit(x, y, epochs=500, verbose=0)\n",
    "\n",
    "# demonstrate prediction\n",
    "x_input = input_sequence[-4:].to_numpy()\n",
    "x_input = x_input.reshape((1, n_seq, n_steps, n_features))\n",
    "yhat = model.predict(x_input, verbose=0)\n",
    "print(\"actual\", array([[test_seq1]]))\n",
    "print(\"prediction\", yhat) # Expected ans: 2020-11-01\t330829\n",
    "model_eval(array([test_seq1]), yhat)"
   ]
  },
  {
   "cell_type": "markdown",
   "metadata": {},
   "source": [
    "## ConvLSTM\n",
    "\n",
    "#### Convolutional reading of input is built directly into each LSTM unit\n",
    "#### Developed for reading two-dimensional spatial-temporal data, but can be adapted for use with univariate time series forecasting"
   ]
  },
  {
   "cell_type": "code",
   "execution_count": 214,
   "metadata": {},
   "outputs": [
    {
     "name": "stdout",
     "output_type": "stream",
     "text": [
      "actual [[330829]]\n",
      "prediction [[330945.34]]\n",
      "Mean Absolute Error: 116.344\n",
      "Mean Squared Error: 330829.0\n",
      "Root Mean Squared Error: 116.344\n",
      "Mean absolute percentage error: 0.035\n",
      "Scaled Mean absolute percentage error: 0.035\n",
      "Mean forecast error: 330945.34\n",
      "Normalised mean squared error: nan\n",
      "Theil_u_statistic: 0.0\n"
     ]
    },
    {
     "name": "stderr",
     "output_type": "stream",
     "text": [
      "D:\\Users\\Yuzhe\\Anaconda3\\envs\\deeplearning\\lib\\site-packages\\ipykernel_launcher.py:30: RuntimeWarning: invalid value encountered in double_scalars\n"
     ]
    }
   ],
   "source": [
    "from keras.layers import ConvLSTM2D\n",
    "\n",
    "# choose a number of time steps\n",
    "n_steps = 4\n",
    "\n",
    "# split into samples\n",
    "x, y = split_sequence(input_sequence, n_steps)\n",
    "\n",
    "# reshape from [samples, timesteps] into [samples, timesteps, rows, columns, features]\n",
    "# as the layer expects input as a sequence of two-dimensional images\n",
    "n_features = 1\n",
    "n_seq = 2\n",
    "n_steps = 2\n",
    "# timesteps = number of subsequences, or n_seq\n",
    "# columns = number of time steps for each subsequence, or n_steps\n",
    "# number of rows is fixed at 1 for one-dimensional data\n",
    "x = x.reshape((x.shape[0], n_seq, 1, n_steps, n_features))\n",
    "\n",
    "# define model\n",
    "model = Sequential()\n",
    "# two-dimensional kernel size in terms of (rows, columns)\n",
    "model.add(ConvLSTM2D(filters=64, kernel_size=(1,2), activation='relu', input_shape=(n_seq, 1, n_steps, n_features)))\n",
    "model.add(Flatten())\n",
    "model.add(Dense(1))\n",
    "model.compile(optimizer='adam', loss='mse')\n",
    "\n",
    "# fit model\n",
    "model.fit(x, y, epochs=500, verbose=0)\n",
    "\n",
    "# demonstrate prediction\n",
    "x_input = input_sequence[-4:].to_numpy()\n",
    "x_input = x_input.reshape((1, n_seq, 1, n_steps, n_features))\n",
    "yhat = model.predict(x_input, verbose=0)\n",
    "print(\"actual\", array([[test_seq1]]))\n",
    "print(\"prediction\", yhat) # Expected ans: 2020-11-01\t330829\n",
    "model_eval(array([test_seq1]), yhat)"
   ]
  },
  {
   "cell_type": "markdown",
   "metadata": {},
   "source": [
    "## 2. Multivariate time series forecasting LSTM models\n",
    "###    i) Multiple Input Series\n",
    "###   ii) Multiple Parallel Series"
   ]
  },
  {
   "cell_type": "markdown",
   "metadata": {},
   "source": [
    "Multivariate time series data means data where there is more than one observation for each time step."
   ]
  },
  {
   "cell_type": "markdown",
   "metadata": {},
   "source": [
    "## Data Preprocessing"
   ]
  },
  {
   "cell_type": "code",
   "execution_count": 316,
   "metadata": {},
   "outputs": [],
   "source": [
    "from numpy import hstack\n",
    "\n",
    "# split a multivariate sequence into samples\n",
    "# x component has a three-dimensional structure\n",
    "def split_multi_seq(sequences, n_steps):\n",
    "\tx, y = list(), list()\n",
    "\tfor i in range(len(sequences)):\n",
    "\t\t# find the end of this pattern\n",
    "\t\tend_ix = i + n_steps\n",
    "\t\t# check if we are beyond the dataset\n",
    "\t\tif end_ix > len(sequences):\n",
    "\t\t\tbreak\n",
    "\t\t# gather input and output parts of the pattern\n",
    "\t\tseq_x, seq_y = sequences[i:end_ix, :-1], sequences[end_ix-1, -1]\n",
    "\t\tx.append(seq_x)\n",
    "\t\ty.append(seq_y)\n",
    "\treturn array(x), array(y)"
   ]
  },
  {
   "cell_type": "markdown",
   "metadata": {},
   "source": [
    "## Multiple Input Series\n",
    "Two or more parallel input time series and an output time series that is dependent on the input time series"
   ]
  },
  {
   "cell_type": "markdown",
   "metadata": {},
   "source": [
    "## Dataset\n",
    "Simple example of two parallel input time series where the output series is the simple addition of the input series."
   ]
  },
  {
   "cell_type": "markdown",
   "metadata": {},
   "source": [
    "eg\n",
    "input:\n",
    "\n",
    "10, 15\n",
    "\n",
    "20, 25\n",
    "\n",
    "30, 35\n",
    "\n",
    "output:\n",
    "65\n"
   ]
  },
  {
   "cell_type": "code",
   "execution_count": 327,
   "metadata": {},
   "outputs": [
    {
     "name": "stdout",
     "output_type": "stream",
     "text": [
      "(8, 3, 2) (8,)\n",
      "[[10 15]\n",
      " [20 25]\n",
      " [30 35]] 65\n",
      "[[20 25]\n",
      " [30 35]\n",
      " [40 45]] 85\n",
      "[[30 35]\n",
      " [40 45]\n",
      " [50 55]] 105\n",
      "[[40 45]\n",
      " [50 55]\n",
      " [60 65]] 125\n",
      "[[50 55]\n",
      " [60 65]\n",
      " [70 75]] 145\n",
      "[[60 65]\n",
      " [70 75]\n",
      " [80 85]] 165\n",
      "[[70 75]\n",
      " [80 85]\n",
      " [90 95]] 185\n",
      "[[ 80  85]\n",
      " [ 90  95]\n",
      " [100 105]] 205\n"
     ]
    }
   ],
   "source": [
    "in_seq1 = array([10, 20, 30, 40, 50, 60, 70, 80, 90, 100])\n",
    "in_seq2 = array([15, 25, 35, 45, 55, 65, 75, 85, 95, 105])\n",
    "out_seq = array([in_seq1[i]+in_seq2[i] for i in range(len(in_seq1))])\n",
    "\n",
    "# multivariate data preparation\n",
    "# convert to [rows, columns] structure\n",
    "in_seq1 = in_seq1.reshape((len(in_seq1), 1))\n",
    "in_seq2 = in_seq2.reshape((len(in_seq2), 1))\n",
    "out_seq = out_seq.reshape((len(out_seq), 1)) # output series\n",
    "\n",
    "# horizontally stack columns\n",
    "# each row is a time step, and each column is a separate time series\n",
    "# standard way of storing parallel time series in a CSV file\n",
    "dataset = hstack((in_seq1, in_seq2, out_seq))\n",
    "\n",
    "# number of time steps\n",
    "n_steps = 3\n",
    "# convert into input/output\n",
    "x, y = split_multi_seq(dataset, n_steps)\n",
    "\n",
    "# x.shape = (number of samples, number of time steps per sample, number of parallel time series)\n",
    "print(x.shape, y.shape)\n",
    "\n",
    "# summarize the data (2 input series, output)\n",
    "for i in range(len(x)):\n",
    "\tprint(x[i], y[i])\n"
   ]
  },
  {
   "cell_type": "code",
   "execution_count": 331,
   "metadata": {},
   "outputs": [
    {
     "name": "stdout",
     "output_type": "stream",
     "text": [
      "train x [[[30 35]\n",
      "  [40 45]\n",
      "  [50 55]]\n",
      "\n",
      " [[40 45]\n",
      "  [50 55]\n",
      "  [60 65]]\n",
      "\n",
      " [[50 55]\n",
      "  [60 65]\n",
      "  [70 75]]\n",
      "\n",
      " [[60 65]\n",
      "  [70 75]\n",
      "  [80 85]]\n",
      "\n",
      " [[70 75]\n",
      "  [80 85]\n",
      "  [90 95]]]\n",
      "train y [105 125 145 165 185]\n",
      "Validation x [[ 80  85]\n",
      " [ 90  95]\n",
      " [100 105]]\n",
      "Validation y 205\n"
     ]
    }
   ],
   "source": [
    "# Split train, validation data\n",
    "# Since this is a single step forecast, only the last index is removed from training dataset\n",
    "train_x = x[:-1]\n",
    "train_y = y[:-1]\n",
    "valid_x = x[-1]\n",
    "valid_y = y[-1]\n",
    "print(\"train x\", train_x[-5:])\n",
    "print(\"train y\", train_y[-5:])\n",
    "\n",
    "print(\"Validation x\", valid_x)\n",
    "print(\"Validation y\", valid_y)\n"
   ]
  },
  {
   "cell_type": "markdown",
   "metadata": {},
   "source": [
    "## Vanilla LSTM"
   ]
  },
  {
   "cell_type": "code",
   "execution_count": 340,
   "metadata": {},
   "outputs": [
    {
     "name": "stdout",
     "output_type": "stream",
     "text": [
      "actual [[205]]\n",
      "prediction [[205.6115]]\n",
      "Mean Absolute Error: 0.611\n",
      "Mean Squared Error: 205.0\n",
      "Root Mean Squared Error: 0.611\n",
      "Mean absolute percentage error: 0.298\n",
      "Scaled Mean absolute percentage error: 0.298\n",
      "Mean forecast error: 205.612\n",
      "Normalised mean squared error: nan\n",
      "Theil_u_statistic: 0.0\n"
     ]
    },
    {
     "name": "stderr",
     "output_type": "stream",
     "text": [
      "D:\\Users\\Yuzhe\\Anaconda3\\envs\\deeplearning\\lib\\site-packages\\ipykernel_launcher.py:30: RuntimeWarning: invalid value encountered in double_scalars\n"
     ]
    }
   ],
   "source": [
    "n_steps = 3\n",
    "n_features = train_x.shape[2]\n",
    "\n",
    "model = Sequential()\n",
    "model.add(LSTM(50, activation='relu', input_shape=(n_steps, n_features)))\n",
    "model.add(Dense(1))\n",
    "model.compile(optimizer='adam', loss='mse')\n",
    "\n",
    "# fit model\n",
    "model.fit(train_x, train_y, epochs=200, verbose=0)\n",
    "\n",
    "x_input = array(valid_x)\n",
    "x_input = x_input.reshape((1, n_steps, n_features))\n",
    "\n",
    "# prediction\n",
    "yhat = model.predict(x_input, verbose=0)\n",
    "print(\"actual\", array([[valid_y]]))\n",
    "print(\"prediction\", yhat)\n",
    "model_eval(array([valid_y]), yhat)"
   ]
  },
  {
   "cell_type": "markdown",
   "metadata": {},
   "source": [
    "## Multiple Parallel Series/ multivariate forecasting"
   ]
  },
  {
   "cell_type": "markdown",
   "metadata": {},
   "source": [
    "The case where there are multiple parallel time series and a value must be predicted for each."
   ]
  },
  {
   "cell_type": "code",
   "execution_count": null,
   "metadata": {},
   "outputs": [],
   "source": [
    "# split a multivariate sequence into samples\n",
    "# X is three-dimensiona = number of sample, number of time steps chosen per sample, number of parallel time series or features\n",
    "# y is two-dimensional = number of samples, number of time variables per sample to be predicted\n",
    "def split_parallel_seq(sequences, n_steps):\n",
    "\tX, y = list(), list()\n",
    "\tfor i in range(len(sequences)):\n",
    "\t\t# find the end of this pattern\n",
    "\t\tend_ix = i + n_steps\n",
    "\t\t# check if we are beyond the dataset\n",
    "\t\tif end_ix > len(sequences)-1:\n",
    "\t\t\tbreak\n",
    "\t\t# gather input and output parts of the pattern\n",
    "\t\tseq_x, seq_y = sequences[i:end_ix, :], sequences[end_ix, :]\n",
    "\t\tX.append(seq_x)\n",
    "\t\ty.append(seq_y)\n",
    "\treturn array(X), array(y)"
   ]
  },
  {
   "cell_type": "code",
   "execution_count": 342,
   "metadata": {},
   "outputs": [
    {
     "name": "stdout",
     "output_type": "stream",
     "text": [
      "(7, 3, 3) (7, 3)\n",
      "[[10 15 25]\n",
      " [20 25 45]\n",
      " [30 35 65]] [40 45 85]\n",
      "[[20 25 45]\n",
      " [30 35 65]\n",
      " [40 45 85]] [ 50  55 105]\n",
      "[[ 30  35  65]\n",
      " [ 40  45  85]\n",
      " [ 50  55 105]] [ 60  65 125]\n",
      "[[ 40  45  85]\n",
      " [ 50  55 105]\n",
      " [ 60  65 125]] [ 70  75 145]\n",
      "[[ 50  55 105]\n",
      " [ 60  65 125]\n",
      " [ 70  75 145]] [ 80  85 165]\n",
      "[[ 60  65 125]\n",
      " [ 70  75 145]\n",
      " [ 80  85 165]] [ 90  95 185]\n",
      "[[ 70  75 145]\n",
      " [ 80  85 165]\n",
      " [ 90  95 185]] [100 105 205]\n"
     ]
    }
   ],
   "source": [
    "# input sequence\n",
    "in_seq1 = array([10, 20, 30, 40, 50, 60, 70, 80, 90, 100])\n",
    "in_seq2 = array([15, 25, 35, 45, 55, 65, 75, 85, 95, 105])\n",
    "out_seq = array([in_seq1[i]+in_seq2[i] for i in range(len(in_seq1))])\n",
    "\n",
    "# convert to [rows, columns] structure\n",
    "in_seq1 = in_seq1.reshape((len(in_seq1), 1))\n",
    "in_seq2 = in_seq2.reshape((len(in_seq2), 1))\n",
    "out_seq = out_seq.reshape((len(out_seq), 1))\n",
    "\n",
    "# horizontally stack columns\n",
    "dataset = hstack((in_seq1, in_seq2, out_seq))\n",
    "\n",
    "# choose a number of time steps\n",
    "n_steps = 3\n",
    "\n",
    "# convert into input/output\n",
    "x, y = split_parallel_seq(dataset, n_steps)\n",
    "\n",
    "print(x.shape, y.shape)\n",
    "\n",
    "# summarize the data\n",
    "for i in range(len(x)):\n",
    "\tprint(x[i], y[i])"
   ]
  },
  {
   "cell_type": "code",
   "execution_count": 343,
   "metadata": {},
   "outputs": [
    {
     "name": "stdout",
     "output_type": "stream",
     "text": [
      "train x [[[ 20  25  45]\n",
      "  [ 30  35  65]\n",
      "  [ 40  45  85]]\n",
      "\n",
      " [[ 30  35  65]\n",
      "  [ 40  45  85]\n",
      "  [ 50  55 105]]\n",
      "\n",
      " [[ 40  45  85]\n",
      "  [ 50  55 105]\n",
      "  [ 60  65 125]]\n",
      "\n",
      " [[ 50  55 105]\n",
      "  [ 60  65 125]\n",
      "  [ 70  75 145]]\n",
      "\n",
      " [[ 60  65 125]\n",
      "  [ 70  75 145]\n",
      "  [ 80  85 165]]]\n",
      "train y [[ 50  55 105]\n",
      " [ 60  65 125]\n",
      " [ 70  75 145]\n",
      " [ 80  85 165]\n",
      " [ 90  95 185]]\n",
      "Validation x [[ 70  75 145]\n",
      " [ 80  85 165]\n",
      " [ 90  95 185]]\n",
      "Validation y [100 105 205]\n"
     ]
    }
   ],
   "source": [
    "# Split train, validation data\n",
    "# Since this is a single step forecast, only the last index is removed from training dataset\n",
    "train_x = x[:-1]\n",
    "train_y = y[:-1]\n",
    "valid_x = x[-1]\n",
    "valid_y = y[-1]\n",
    "print(\"train x\", train_x[-5:])\n",
    "print(\"train y\", train_y[-5:])\n",
    "\n",
    "print(\"Validation x\", valid_x)\n",
    "print(\"Validation y\", valid_y)"
   ]
  },
  {
   "cell_type": "markdown",
   "metadata": {},
   "source": [
    "## Stacked LSTM\n"
   ]
  },
  {
   "cell_type": "code",
   "execution_count": 344,
   "metadata": {},
   "outputs": [
    {
     "name": "stdout",
     "output_type": "stream",
     "text": [
      "actual [[[100 105 205]]]\n",
      "prediction [[100.26913 105.58375 206.08334]]\n",
      "Mean Absolute Error: 0.645\n",
      "Mean Squared Error: 144.971\n",
      "Root Mean Squared Error: 0.727\n",
      "Mean absolute percentage error: 0.451\n",
      "Scaled Mean absolute percentage error: 0.45\n",
      "Mean forecast error: 145.685\n",
      "Normalised mean squared error: 0.0\n",
      "Theil_u_statistic: 0.0\n"
     ]
    },
    {
     "name": "stderr",
     "output_type": "stream",
     "text": [
      "D:\\Users\\Yuzhe\\Anaconda3\\envs\\deeplearning\\lib\\site-packages\\ipykernel_launcher.py:30: RuntimeWarning: divide by zero encountered in double_scalars\n"
     ]
    }
   ],
   "source": [
    "n_steps = 3\n",
    "n_features = train_x.shape[2] # dataset knows the number of features\n",
    "\n",
    "# define model\n",
    "model = Sequential()\n",
    "model.add(LSTM(100, activation='relu', return_sequences=True, input_shape=(n_steps, n_features)))\n",
    "model.add(LSTM(100, activation='relu'))\n",
    "model.add(Dense(n_features))\n",
    "model.compile(optimizer='adam', loss='mse')\n",
    "# fit model\n",
    "model.fit(train_x, train_y, epochs=400, verbose=0)\n",
    "# demonstrate prediction\n",
    "x_input = array(valid_x)\n",
    "x_input = x_input.reshape((1, n_steps, n_features))\n",
    "yhat = model.predict(x_input, verbose=0)\n",
    "print(\"actual\", array([[valid_y]]))\n",
    "print(\"prediction\", yhat) # Expected ans: 2020-11-01\t330829\n",
    "model_eval(array([valid_y]), yhat)"
   ]
  },
  {
   "cell_type": "markdown",
   "metadata": {},
   "source": [
    "## 3. Univariate Multi-Step time series forecasting LSTM models\n",
    "### i) Vector Output Model\n",
    "### ii) Encoder-Decoder Model"
   ]
  },
  {
   "cell_type": "code",
   "execution_count": 346,
   "metadata": {},
   "outputs": [],
   "source": [
    "# Data preprocessing\n",
    "def split_multistep_seq(sequence, n_steps_in, n_steps_out):\n",
    "\tX, y = list(), list()\n",
    "\tfor i in range(len(sequence)):\n",
    "\t\t# find the end of this pattern\n",
    "\t\tend_ix = i + n_steps_in\n",
    "\t\tout_end_ix = end_ix + n_steps_out\n",
    "\t\t# check if we are beyond the sequence\n",
    "\t\tif out_end_ix > len(sequence):\n",
    "\t\t\tbreak\n",
    "\t\t# gather input and output parts of the pattern\n",
    "\t\tseq_x, seq_y = sequence[i:end_ix], sequence[end_ix:out_end_ix]\n",
    "\t\tX.append(seq_x)\n",
    "\t\ty.append(seq_y)\n",
    "\treturn array(X), array(y)"
   ]
  },
  {
   "cell_type": "code",
   "execution_count": 355,
   "metadata": {},
   "outputs": [
    {
     "name": "stdout",
     "output_type": "stream",
     "text": [
      "<class 'pandas.core.series.Series'>\n",
      "Shape of dataset:  (200,)\n",
      "train DATE\n",
      "5/1/2020    329894\n",
      "6/1/2020    330038\n",
      "7/1/2020    330199\n",
      "8/1/2020    330368\n",
      "9/1/2020    330535\n",
      "Name: POPTHM, dtype: int64\n",
      "test DATE\n",
      "10/1/2020    330692\n",
      "11/1/2020    330829\n",
      "Name: POPTHM, dtype: int64\n"
     ]
    }
   ],
   "source": [
    "# Split train, test data\n",
    "# Since this is a single step forecast, only the last index is removed from training dataset\n",
    "train_seq3 = df1[-202:-2]['POPTHM'] # LSTM perform best between 200 ~ 400 datapoint\n",
    "test_seq3 = df1.iloc[-2:]['POPTHM'] # PRedict 2 steps ahead\n",
    "\n",
    "print(type(train_seq3))\n",
    "print(\"Shape of dataset: \", train_seq3.shape)\n",
    "print(\"train\", train_seq3.tail())\n",
    "print(\"test\", test_seq3)"
   ]
  },
  {
   "cell_type": "markdown",
   "metadata": {},
   "source": [
    "## i) Vector Output Model\n",
    "## Stacked LSTM\n",
    "\n",
    "One time step of each output time series was forecasted as a vector"
   ]
  },
  {
   "cell_type": "code",
   "execution_count": 356,
   "metadata": {},
   "outputs": [
    {
     "name": "stdout",
     "output_type": "stream",
     "text": [
      "actual [[[330692 330829]]]\n",
      "prediction [[330802.16 331003.53]]\n",
      "Mean Absolute Error: 142.344\n",
      "Mean Squared Error: 330760.507\n",
      "Root Mean Squared Error: 145.938\n",
      "Mean absolute percentage error: 0.043\n",
      "Scaled Mean absolute percentage error: 0.043\n",
      "Mean forecast error: 330902.84\n",
      "Normalised mean squared error: 0.0\n",
      "Theil_u_statistic: 0.0\n"
     ]
    },
    {
     "name": "stderr",
     "output_type": "stream",
     "text": [
      "D:\\Users\\Yuzhe\\Anaconda3\\envs\\deeplearning\\lib\\site-packages\\ipykernel_launcher.py:30: RuntimeWarning: divide by zero encountered in double_scalars\n"
     ]
    }
   ],
   "source": [
    "# input sequence\n",
    "raw_seq = train_seq3\n",
    "\n",
    "# choose a number of time steps\n",
    "n_steps_in, n_steps_out = 3, 2 # input, output steps \n",
    "\n",
    "# split into samples\n",
    "x, y = split_multistep_seq(raw_seq, n_steps_in, n_steps_out)\n",
    "\n",
    "# reshape from [samples, timesteps] into [samples, timesteps, features]\n",
    "n_features = 1\n",
    "x = x.reshape((x.shape[0], x.shape[1], n_features))\n",
    "\n",
    "# define model\n",
    "model = Sequential()\n",
    "model.add(LSTM(100, activation='relu', return_sequences=True, input_shape=(n_steps_in, n_features)))\n",
    "model.add(LSTM(100, activation='relu'))\n",
    "model.add(Dense(n_steps_out))\n",
    "model.compile(optimizer='adam', loss='mse')\n",
    "\n",
    "# fit model\n",
    "model.fit(x, y, epochs=50, verbose=0)\n",
    "\n",
    "# prediction\n",
    "x_input = array(train_seq3[-3:])\n",
    "x_input = x_input.reshape((1, n_steps_in, n_features))\n",
    "yhat = model.predict(x_input, verbose=0)\n",
    "print(\"actual\", array([[test_seq3]]))\n",
    "print(\"prediction\", yhat) \n",
    "model_eval(array([test_seq3]), yhat)"
   ]
  },
  {
   "cell_type": "markdown",
   "metadata": {},
   "source": [
    "## ii) Encoder-Decoder Model\n",
    "\n",
    "sequence-to-sequence / input and output sequences / seq2seq\n",
    "1. Encoder = responsible for reading and interpreting the input sequence\n",
    "    Traditionally a Vanilla LSTM model\n",
    "    output = a fixed length vector that represents the model’s interpretation of the sequence\n",
    "2. fixed-length output of the encoder is repeated, once for each required time step in the output sequence\n",
    "3. Decoder =   output a value for each value in the output time step"
   ]
  },
  {
   "cell_type": "code",
   "execution_count": 413,
   "metadata": {},
   "outputs": [],
   "source": [
    "from keras.layers import RepeatVector\n",
    "from keras.layers import TimeDistributed\n",
    "\n",
    "# input sequence\n",
    "raw_seq = train_seq3\n",
    "\n",
    "# time steps\n",
    "n_steps_in, n_steps_out = 3, 2\n",
    "\n",
    "# split into samples\n",
    "X, y = split_multistep_seq(raw_seq, n_steps_in, n_steps_out)\n",
    "\n",
    "# reshape from [samples, timesteps] into [samples, timesteps, features]\n",
    "n_features = 1\n",
    "X = X.reshape((X.shape[0], X.shape[1], n_features))\n",
    "# output/y of the training dataset must be three-dimensional shape of [samples, timesteps, features]\n",
    "y = y.reshape((y.shape[0], y.shape[1], n_features))\n",
    "\n",
    "# define model\n",
    "model = Sequential()\n",
    "model.add(LSTM(100, activation='relu', input_shape=(n_steps_in, n_features)))\n",
    "model.add(RepeatVector(n_steps_out))\n",
    "model.add(LSTM(100, activation='relu', return_sequences=True))\n",
    "# use the same output layer or layers to make each one-step prediction in the output sequence.\n",
    "model.add(TimeDistributed(Dense(1)))\n",
    "model.compile(optimizer='adam', loss='mse')\n",
    "\n",
    "# fit model\n",
    "model.fit(X, y, epochs=100, verbose=0)\n",
    "\n",
    "# prediction\n",
    "x_input = array(train_seq3[-3:])\n",
    "x_input = x_input.reshape((1, n_steps_in, n_features))\n",
    "yhat = model.predict(x_input, verbose=0)"
   ]
  },
  {
   "cell_type": "code",
   "execution_count": 379,
   "metadata": {},
   "outputs": [
    {
     "name": "stdout",
     "output_type": "stream",
     "text": [
      "Step 1:\n",
      "actual [[330692]]\n",
      "prediction [330773.5]\n",
      "Mean Absolute Error: 81.5\n",
      "Mean Squared Error: 330692.0\n",
      "Root Mean Squared Error: 81.5\n",
      "Mean absolute percentage error: 0.025\n",
      "Scaled Mean absolute percentage error: 0.025\n",
      "Mean forecast error: 330773.5\n",
      "Normalised mean squared error: nan\n",
      "Theil_u_statistic: 0.0\n",
      "\n",
      "Step 2:\n",
      "actual [[330829]]\n",
      "prediction [330918.03]\n",
      "Mean Absolute Error: 89.031\n",
      "Mean Squared Error: 330829.0\n",
      "Root Mean Squared Error: 89.031\n",
      "Mean absolute percentage error: 0.027\n",
      "Scaled Mean absolute percentage error: 0.027\n",
      "Mean forecast error: 330918.03\n",
      "Normalised mean squared error: nan\n",
      "Theil_u_statistic: 0.0\n"
     ]
    },
    {
     "name": "stderr",
     "output_type": "stream",
     "text": [
      "D:\\Users\\Yuzhe\\Anaconda3\\envs\\deeplearning\\lib\\site-packages\\ipykernel_launcher.py:30: RuntimeWarning: invalid value encountered in double_scalars\n",
      "D:\\Users\\Yuzhe\\Anaconda3\\envs\\deeplearning\\lib\\site-packages\\ipykernel_launcher.py:30: RuntimeWarning: invalid value encountered in double_scalars\n"
     ]
    }
   ],
   "source": [
    "print(\"Step 1:\")\n",
    "print(\"actual\", array([[test_seq3[0]]]))\n",
    "print(\"prediction\", yhat[0][0]) \n",
    "model_eval(array([test_seq3[0]]), yhat[0][0])\n",
    "\n",
    "print(\"\\nStep 2:\")\n",
    "print(\"actual\", array([[test_seq3[1]]]))\n",
    "print(\"prediction\", yhat[0][1]) \n",
    "model_eval(array([test_seq3[1]]), yhat[0][1])"
   ]
  },
  {
   "cell_type": "markdown",
   "metadata": {},
   "source": [
    "## 4. Multivariate Multi-Step time series forecasting LSTM models\n",
    "### i) Multiple Input Multi-Step Output\n",
    "### ii) Multiple Parallel Input and Multi-Step Output"
   ]
  },
  {
   "cell_type": "markdown",
   "metadata": {},
   "source": [
    "## i) Multiple Input Multi-Step Output¶"
   ]
  },
  {
   "cell_type": "code",
   "execution_count": 421,
   "metadata": {},
   "outputs": [],
   "source": [
    "# split a multivariate sequence into samples\n",
    "def split_multi_variate_step(sequences, n_steps_in, n_steps_out):\n",
    "\tX, y = list(), list()\n",
    "\tfor i in range(len(sequences)):\n",
    "\t\t# find the end of this pattern\n",
    "\t\tend_ix = i + n_steps_in\n",
    "\t\tout_end_ix = end_ix + n_steps_out-1\n",
    "\t\t# check if we are beyond the dataset\n",
    "\t\tif out_end_ix > len(sequences):\n",
    "\t\t\tbreak\n",
    "\t\t# gather input and output parts of the pattern\n",
    "\t\tseq_x, seq_y = sequences[i:end_ix, :-1], sequences[end_ix-1:out_end_ix, -1]\n",
    "\t\tX.append(seq_x)\n",
    "\t\ty.append(seq_y)\n",
    "\treturn array(X), array(y)\n",
    "\n",
    "# input sequence\n",
    "in_seq1 = array([10, 20, 30, 40, 50, 60, 70, 80, 90])\n",
    "in_seq2 = array([15, 25, 35, 45, 55, 65, 75, 85, 95])\n",
    "out_seq = array([in_seq1[i]+in_seq2[i] for i in range(len(in_seq1))])\n",
    "\n",
    "# convert to [rows, columns] structure\n",
    "in_seq1 = in_seq1.reshape((len(in_seq1), 1))\n",
    "in_seq2 = in_seq2.reshape((len(in_seq2), 1))\n",
    "out_seq = out_seq.reshape((len(out_seq), 1))\n",
    "\n",
    "# horizontally stack columns\n",
    "dataset = hstack((in_seq1, in_seq2, out_seq))\n",
    "\n",
    "# time steps\n",
    "n_steps_in, n_steps_out = 3, 2\n",
    "\n",
    "# covert into input/output\n",
    "x, y = split_multi_variate_step(dataset, n_steps_in, n_steps_out)"
   ]
  },
  {
   "cell_type": "code",
   "execution_count": 422,
   "metadata": {},
   "outputs": [
    {
     "name": "stdout",
     "output_type": "stream",
     "text": [
      "train x [[[10 15]\n",
      "  [20 25]\n",
      "  [30 35]]\n",
      "\n",
      " [[20 25]\n",
      "  [30 35]\n",
      "  [40 45]]\n",
      "\n",
      " [[30 35]\n",
      "  [40 45]\n",
      "  [50 55]]\n",
      "\n",
      " [[40 45]\n",
      "  [50 55]\n",
      "  [60 65]]]\n",
      "train y [[ 65  85]\n",
      " [ 85 105]\n",
      " [105 125]\n",
      " [125 145]]\n",
      "Validation x [[[50 55]\n",
      "  [60 65]\n",
      "  [70 75]]]\n",
      "Validation y [[145 165]]\n"
     ]
    }
   ],
   "source": [
    "# Split train, validation data\n",
    "# Since this is a single step forecast, only the last index is removed from training dataset\n",
    "train_x = x[:-2]\n",
    "train_y = y[:-2]\n",
    "valid_x = x[-2:-1]\n",
    "valid_y = y[-2:-1]\n",
    "print(\"train x\", train_x[-5:])\n",
    "print(\"train y\", train_y[-5:])\n",
    "\n",
    "print(\"Validation x\", valid_x)\n",
    "print(\"Validation y\", valid_y)"
   ]
  },
  {
   "cell_type": "code",
   "execution_count": 432,
   "metadata": {},
   "outputs": [
    {
     "name": "stdout",
     "output_type": "stream",
     "text": [
      "actual [[145 165]]\n",
      "prediction [[147.56807 170.15536]]\n",
      "Mean Absolute Error: 3.862\n",
      "Mean Squared Error: 155.322\n",
      "Root Mean Squared Error: 4.073\n",
      "Mean absolute percentage error: 2.448\n",
      "Scaled Mean absolute percentage error: 2.416\n",
      "Mean forecast error: 159.263\n",
      "Normalised mean squared error: 0.0\n",
      "Theil_u_statistic: 0.0\n"
     ]
    },
    {
     "name": "stderr",
     "output_type": "stream",
     "text": [
      "D:\\Users\\Yuzhe\\Anaconda3\\envs\\deeplearning\\lib\\site-packages\\ipykernel_launcher.py:30: RuntimeWarning: divide by zero encountered in double_scalars\n"
     ]
    }
   ],
   "source": [
    "# the dataset knows the number of features, e.g. 2\n",
    "n_features = train_x.shape[2]\n",
    "\n",
    "# define model\n",
    "model = Sequential()\n",
    "model.add(LSTM(100, activation='relu', return_sequences=True, input_shape=(n_steps_in, n_features)))\n",
    "model.add(LSTM(100, activation='relu'))\n",
    "model.add(Dense(n_steps_out))\n",
    "model.compile(optimizer='adam', loss='mse')\n",
    "\n",
    "# fit model\n",
    "model.fit(train_x, train_y, epochs=200, verbose=0)\n",
    "\n",
    "# prediction\n",
    "x_input = valid_x\n",
    "x_input = x_input.reshape((1, n_steps_in, n_features))\n",
    "yhat = model.predict(x_input, verbose=0)\n",
    "print(\"actual\", valid_y)\n",
    "print(\"prediction\", yhat)\n",
    "model_eval(valid_y, yhat)"
   ]
  },
  {
   "cell_type": "markdown",
   "metadata": {},
   "source": [
    "## ii) Multiple Parallel Input and Multi-Step Output"
   ]
  },
  {
   "cell_type": "code",
   "execution_count": 435,
   "metadata": {},
   "outputs": [],
   "source": [
    "# split a multivariate sequence into samples\n",
    "def split_prl_multi_variate_step(sequences, n_steps_in, n_steps_out):\n",
    "\tX, y = list(), list()\n",
    "\tfor i in range(len(sequences)):\n",
    "\t\t# find the end of this pattern\n",
    "\t\tend_ix = i + n_steps_in\n",
    "\t\tout_end_ix = end_ix + n_steps_out\n",
    "\t\t# check if we are beyond the dataset\n",
    "\t\tif out_end_ix > len(sequences):\n",
    "\t\t\tbreak\n",
    "\t\t# gather input and output parts of the pattern\n",
    "\t\tseq_x, seq_y = sequences[i:end_ix, :], sequences[end_ix:out_end_ix, :]\n",
    "\t\tX.append(seq_x)\n",
    "\t\ty.append(seq_y)\n",
    "\treturn array(X), array(y)\n",
    "\n",
    "# input sequence\n",
    "in_seq1 = array([10, 20, 30, 40, 50, 60, 70, 80, 90])\n",
    "in_seq2 = array([15, 25, 35, 45, 55, 65, 75, 85, 95])\n",
    "out_seq = array([in_seq1[i]+in_seq2[i] for i in range(len(in_seq1))])\n",
    "\n",
    "# convert to [rows, columns] structure\n",
    "in_seq1 = in_seq1.reshape((len(in_seq1), 1))\n",
    "in_seq2 = in_seq2.reshape((len(in_seq2), 1))\n",
    "out_seq = out_seq.reshape((len(out_seq), 1))\n",
    "\n",
    "# horizontally stack columns\n",
    "dataset = hstack((in_seq1, in_seq2, out_seq))\n",
    "\n",
    "# choose a number of time steps\n",
    "n_steps_in, n_steps_out = 3, 2\n",
    "\n",
    "# covert into input/output\n",
    "x, y = split_prl_multi_variate_step(dataset, n_steps_in, n_steps_out)"
   ]
  },
  {
   "cell_type": "code",
   "execution_count": 437,
   "metadata": {},
   "outputs": [
    {
     "name": "stdout",
     "output_type": "stream",
     "text": [
      "train x [[[ 10  15  25]\n",
      "  [ 20  25  45]\n",
      "  [ 30  35  65]]\n",
      "\n",
      " [[ 20  25  45]\n",
      "  [ 30  35  65]\n",
      "  [ 40  45  85]]\n",
      "\n",
      " [[ 30  35  65]\n",
      "  [ 40  45  85]\n",
      "  [ 50  55 105]]]\n",
      "train y [[[ 40  45  85]\n",
      "  [ 50  55 105]]\n",
      "\n",
      " [[ 50  55 105]\n",
      "  [ 60  65 125]]\n",
      "\n",
      " [[ 60  65 125]\n",
      "  [ 70  75 145]]]\n",
      "Validation x [[ 50  55 105]\n",
      " [ 60  65 125]\n",
      " [ 70  75 145]]\n",
      "Validation y [[ 80  85 165]\n",
      " [ 90  95 185]]\n"
     ]
    }
   ],
   "source": [
    "# Split train, validation data\n",
    "# Since this is a single step forecast, only the last index is removed from training dataset\n",
    "train_x = x[:-2]\n",
    "train_y = y[:-2]\n",
    "valid_x = x[-1]\n",
    "valid_y = y[-1]\n",
    "print(\"train x\", train_x[-5:])\n",
    "print(\"train y\", train_y[-5:])\n",
    "\n",
    "print(\"Validation x\", valid_x)\n",
    "print(\"Validation y\", valid_y)"
   ]
  },
  {
   "cell_type": "code",
   "execution_count": 454,
   "metadata": {},
   "outputs": [],
   "source": [
    "# the dataset knows the number of features, e.g. 2\n",
    "n_features = train_x.shape[2]\n",
    "\n",
    "# define model\n",
    "model = Sequential()\n",
    "model.add(LSTM(200, activation='relu', input_shape=(n_steps_in, n_features)))\n",
    "model.add(RepeatVector(n_steps_out))\n",
    "model.add(LSTM(200, activation='relu', return_sequences=True))\n",
    "model.add(TimeDistributed(Dense(n_features)))\n",
    "model.compile(optimizer='adam', loss='mse')\n",
    "\n",
    "# fit model\n",
    "model.fit(train_x, train_y, epochs=300, verbose=0)\n",
    "\n",
    "# prediction\n",
    "x_input = valid_x\n",
    "x_input = x_input.reshape((1, n_steps_in, n_features))\n",
    "yhat = model.predict(x_input, verbose=0)"
   ]
  },
  {
   "cell_type": "code",
   "execution_count": 470,
   "metadata": {},
   "outputs": [
    {
     "name": "stdout",
     "output_type": "stream",
     "text": [
      "actual [[ 80  85 165]\n",
      " [ 90  95 185]]\n",
      "prediction [[[ 84.08013  90.65566 175.04732]\n",
      "  [ 96.57801 102.26381 200.34622]]]\n",
      "Mean Absolute Error: 8.162\n",
      "Mean Squared Error: 123.962\n",
      "Root Mean Squared Error: 8.955\n",
      "Mean absolute percentage error: 6.849\n",
      "Scaled Mean absolute percentage error: 6.617\n",
      "Mean forecast error: 132.824\n",
      "Normalised mean squared error: 0.008\n",
      "Theil_u_statistic: 0.001\n"
     ]
    }
   ],
   "source": [
    "print(\"actual\", valid_y)\n",
    "print(\"prediction\", yhat[0])\n",
    "model_eval(valid_y, yhat[0])"
   ]
  }
 ],
 "metadata": {
  "kernelspec": {
   "display_name": "Python 3",
   "language": "python",
   "name": "python3"
  },
  "language_info": {
   "codemirror_mode": {
    "name": "ipython",
    "version": 3
   },
   "file_extension": ".py",
   "mimetype": "text/x-python",
   "name": "python",
   "nbconvert_exporter": "python",
   "pygments_lexer": "ipython3",
   "version": "3.7.7"
  }
 },
 "nbformat": 4,
 "nbformat_minor": 4
}
